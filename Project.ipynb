{
 "cells": [
  {
   "cell_type": "code",
   "execution_count": 143,
   "id": "078c6bb7",
   "metadata": {},
   "outputs": [],
   "source": [
    "import pandas as pd\n",
    "import numpy as np\n",
    "import seaborn as sns\n",
    "import matplotlib.pyplot as plt"
   ]
  },
  {
   "cell_type": "markdown",
   "id": "3202c0bc",
   "metadata": {},
   "source": [
    "# Logistic Regression #"
   ]
  },
  {
   "cell_type": "code",
   "execution_count": 144,
   "id": "16468326",
   "metadata": {},
   "outputs": [],
   "source": [
    "import warnings\n",
    "warnings.filterwarnings('ignore') #ignoring some deprication warnings"
   ]
  },
  {
   "cell_type": "code",
   "execution_count": 145,
   "id": "30094136",
   "metadata": {},
   "outputs": [
    {
     "data": {
      "text/html": [
       "<div>\n",
       "<style scoped>\n",
       "    .dataframe tbody tr th:only-of-type {\n",
       "        vertical-align: middle;\n",
       "    }\n",
       "\n",
       "    .dataframe tbody tr th {\n",
       "        vertical-align: top;\n",
       "    }\n",
       "\n",
       "    .dataframe thead th {\n",
       "        text-align: right;\n",
       "    }\n",
       "</style>\n",
       "<table border=\"1\" class=\"dataframe\">\n",
       "  <thead>\n",
       "    <tr style=\"text-align: right;\">\n",
       "      <th></th>\n",
       "      <th>CustomerID</th>\n",
       "      <th>Age</th>\n",
       "      <th>Gender</th>\n",
       "      <th>Tenure</th>\n",
       "      <th>Usage Frequency</th>\n",
       "      <th>Support Calls</th>\n",
       "      <th>Payment Delay</th>\n",
       "      <th>Subscription Type</th>\n",
       "      <th>Contract Length</th>\n",
       "      <th>Total Spend</th>\n",
       "      <th>Last Interaction</th>\n",
       "      <th>Churn</th>\n",
       "    </tr>\n",
       "  </thead>\n",
       "  <tbody>\n",
       "    <tr>\n",
       "      <th>0</th>\n",
       "      <td>1</td>\n",
       "      <td>22</td>\n",
       "      <td>Female</td>\n",
       "      <td>25</td>\n",
       "      <td>14</td>\n",
       "      <td>4</td>\n",
       "      <td>27</td>\n",
       "      <td>Basic</td>\n",
       "      <td>Monthly</td>\n",
       "      <td>598</td>\n",
       "      <td>9</td>\n",
       "      <td>1</td>\n",
       "    </tr>\n",
       "    <tr>\n",
       "      <th>1</th>\n",
       "      <td>2</td>\n",
       "      <td>41</td>\n",
       "      <td>Female</td>\n",
       "      <td>28</td>\n",
       "      <td>28</td>\n",
       "      <td>7</td>\n",
       "      <td>13</td>\n",
       "      <td>Standard</td>\n",
       "      <td>Monthly</td>\n",
       "      <td>584</td>\n",
       "      <td>20</td>\n",
       "      <td>0</td>\n",
       "    </tr>\n",
       "    <tr>\n",
       "      <th>2</th>\n",
       "      <td>3</td>\n",
       "      <td>47</td>\n",
       "      <td>Male</td>\n",
       "      <td>27</td>\n",
       "      <td>10</td>\n",
       "      <td>2</td>\n",
       "      <td>29</td>\n",
       "      <td>Premium</td>\n",
       "      <td>Annual</td>\n",
       "      <td>757</td>\n",
       "      <td>21</td>\n",
       "      <td>0</td>\n",
       "    </tr>\n",
       "    <tr>\n",
       "      <th>3</th>\n",
       "      <td>4</td>\n",
       "      <td>35</td>\n",
       "      <td>Male</td>\n",
       "      <td>9</td>\n",
       "      <td>12</td>\n",
       "      <td>5</td>\n",
       "      <td>17</td>\n",
       "      <td>Premium</td>\n",
       "      <td>Quarterly</td>\n",
       "      <td>232</td>\n",
       "      <td>18</td>\n",
       "      <td>0</td>\n",
       "    </tr>\n",
       "    <tr>\n",
       "      <th>4</th>\n",
       "      <td>5</td>\n",
       "      <td>53</td>\n",
       "      <td>Female</td>\n",
       "      <td>58</td>\n",
       "      <td>24</td>\n",
       "      <td>9</td>\n",
       "      <td>2</td>\n",
       "      <td>Standard</td>\n",
       "      <td>Annual</td>\n",
       "      <td>533</td>\n",
       "      <td>18</td>\n",
       "      <td>0</td>\n",
       "    </tr>\n",
       "  </tbody>\n",
       "</table>\n",
       "</div>"
      ],
      "text/plain": [
       "   CustomerID  Age  Gender  Tenure  Usage Frequency  Support Calls  \\\n",
       "0           1   22  Female      25               14              4   \n",
       "1           2   41  Female      28               28              7   \n",
       "2           3   47    Male      27               10              2   \n",
       "3           4   35    Male       9               12              5   \n",
       "4           5   53  Female      58               24              9   \n",
       "\n",
       "   Payment Delay Subscription Type Contract Length  Total Spend  \\\n",
       "0             27             Basic         Monthly          598   \n",
       "1             13          Standard         Monthly          584   \n",
       "2             29           Premium          Annual          757   \n",
       "3             17           Premium       Quarterly          232   \n",
       "4              2          Standard          Annual          533   \n",
       "\n",
       "   Last Interaction  Churn  \n",
       "0                 9      1  \n",
       "1                20      0  \n",
       "2                21      0  \n",
       "3                18      0  \n",
       "4                18      0  "
      ]
     },
     "execution_count": 145,
     "metadata": {},
     "output_type": "execute_result"
    }
   ],
   "source": [
    "# load dataset\n",
    "\n",
    "data = pd.read_csv('customer_churn_dataset-testing-master.csv')\n",
    "\n",
    "data.head()"
   ]
  },
  {
   "cell_type": "code",
   "execution_count": 146,
   "id": "ed94a3b1",
   "metadata": {},
   "outputs": [
    {
     "name": "stdout",
     "output_type": "stream",
     "text": [
      "Dataset shape: (64374, 12)\n"
     ]
    }
   ],
   "source": [
    "# print the shape of the dataset\n",
    "print(\"Dataset shape:\", data.shape)"
   ]
  },
  {
   "cell_type": "code",
   "execution_count": 147,
   "id": "4aab3a17",
   "metadata": {},
   "outputs": [
    {
     "name": "stdout",
     "output_type": "stream",
     "text": [
      "Missing values:\n",
      " CustomerID           0\n",
      "Age                  0\n",
      "Gender               0\n",
      "Tenure               0\n",
      "Usage Frequency      0\n",
      "Support Calls        0\n",
      "Payment Delay        0\n",
      "Subscription Type    0\n",
      "Contract Length      0\n",
      "Total Spend          0\n",
      "Last Interaction     0\n",
      "Churn                0\n",
      "dtype: int64\n"
     ]
    }
   ],
   "source": [
    "# check data for missing values\n",
    "print(\"Missing values:\\n\", data.isnull().sum())"
   ]
  },
  {
   "cell_type": "code",
   "execution_count": 148,
   "id": "8e3c9978",
   "metadata": {},
   "outputs": [
    {
     "name": "stdout",
     "output_type": "stream",
     "text": [
      "   Age  Gender  Tenure  Usage Frequency  Support Calls  Payment Delay  \\\n",
      "0   22  Female      25               14              4             27   \n",
      "1   41  Female      28               28              7             13   \n",
      "2   47    Male      27               10              2             29   \n",
      "3   35    Male       9               12              5             17   \n",
      "4   53  Female      58               24              9              2   \n",
      "\n",
      "  Subscription Type Contract Length  Total Spend  Last Interaction  \n",
      "0             Basic         Monthly          598                 9  \n",
      "1          Standard         Monthly          584                20  \n",
      "2           Premium          Annual          757                21  \n",
      "3           Premium       Quarterly          232                18  \n",
      "4          Standard          Annual          533                18  \n",
      "\n",
      "0    1\n",
      "1    0\n",
      "2    0\n",
      "3    0\n",
      "4    0\n",
      "Name: Churn, dtype: int64\n"
     ]
    }
   ],
   "source": [
    "# feature matrix and target vector\n",
    "X = data.drop(columns=[\"CustomerID\", \"Churn\"]) #We remove CustomerID because it isn't useful for the model\n",
    "y = data[\"Churn\"]\n",
    "\n",
    "print(X.head())\n",
    "print(\"\")\n",
    "print(y.head())"
   ]
  },
  {
   "cell_type": "code",
   "execution_count": 149,
   "id": "77b192af",
   "metadata": {},
   "outputs": [
    {
     "name": "stdout",
     "output_type": "stream",
     "text": [
      "Classification Report:\n",
      "               precision    recall  f1-score   support\n",
      "\n",
      "           0       0.85      0.83      0.84      6793\n",
      "           1       0.82      0.83      0.82      6082\n",
      "\n",
      "    accuracy                           0.83     12875\n",
      "   macro avg       0.83      0.83      0.83     12875\n",
      "weighted avg       0.83      0.83      0.83     12875\n",
      "\n"
     ]
    }
   ],
   "source": [
    "# Implementing Logistic Regression\n",
    "from sklearn.preprocessing import OneHotEncoder\n",
    "from sklearn.compose import ColumnTransformer\n",
    "from sklearn.pipeline import Pipeline\n",
    "from sklearn.linear_model import LogisticRegression\n",
    "\n",
    "# Begin by preprocessing the categorical features\n",
    "categorical_features = [\"Gender\", \"Subscription Type\", \"Contract Length\"]\n",
    "\n",
    "# We use a column transformer to apply OneHotEncoder\n",
    "preprocessor_lr = ColumnTransformer(\n",
    "    transformers=[\n",
    "        (\"cat\", OneHotEncoder(drop=\"first\"), categorical_features)\n",
    "    ],\n",
    "    remainder=\"passthrough\"\n",
    ")\n",
    "\n",
    "# Now we use a pipeline to apply the preprocessing\n",
    "pipeline_lr = Pipeline(steps=[\n",
    "    (\"preprocessor\", preprocessor_lr),\n",
    "    (\"classifier\", LogisticRegression(max_iter=1000, random_state=42))\n",
    "])\n",
    "\n",
    "# Split the data into training and testing sets\n",
    "from sklearn.model_selection import train_test_split\n",
    "X_train, X_test, y_train, y_test = train_test_split(X, y, test_size=0.2, random_state=42)\n",
    "\n",
    "# Train the logistic regression model\n",
    "pipeline_lr.fit(X_train, y_train)\n",
    "\n",
    "# Make predictions\n",
    "y_pred_lr = pipeline_lr.predict(X_test)\n",
    "\n",
    "# Evaluate the model\n",
    "from sklearn.metrics import classification_report\n",
    "print(\"Classification Report:\\n\", classification_report(y_test, y_pred_lr))\n"
   ]
  },
  {
   "cell_type": "code",
   "execution_count": 150,
   "id": "7c738829",
   "metadata": {},
   "outputs": [
    {
     "data": {
      "image/png": "[encoded data removed]",
      "text/plain": [
       "<Figure size 500x500 with 2 Axes>"
      ]
     },
     "metadata": {},
     "output_type": "display_data"
    }
   ],
   "source": [
    "# We draw the confusion matrix to visualize our results\n",
    "from sklearn.metrics import confusion_matrix\n",
    "\n",
    "cm_lr = confusion_matrix(y_test, y_pred_lr)\n",
    "fig, axes = plt.subplots(figsize=(5,5))\n",
    " \n",
    "sns.heatmap(cm_lr, xticklabels=['not churning', 'churning'], \n",
    "            yticklabels=['not churning', 'churning'], \n",
    "            cmap='Blues', annot=True, fmt='d', ax=axes)\n",
    "\n",
    "axes.set_title('Confusion Matrix for Logistic Regression')\n",
    "axes.set_xlabel('Predicted Values')\n",
    "axes.set_ylabel('Actual Values')\n",
    "\n",
    "plt.tight_layout()\n",
    "plt.show()"
   ]
  },
  {
   "cell_type": "markdown",
   "id": "25597920",
   "metadata": {},
   "source": [
    "# RANDOM FOREST #"
   ]
  },
  {
   "cell_type": "code",
   "execution_count": 151,
   "id": "c2e39118",
   "metadata": {},
   "outputs": [],
   "source": [
    "#After some testing, we found that the \"Payment Delay\" column was causing data leakage and needed to be removed\n",
    "\n",
    "X = data.drop(columns=[\"CustomerID\", \"Churn\", \"Payment Delay\"])\n",
    "y = data[\"Churn\"]"
   ]
  },
  {
   "cell_type": "code",
   "execution_count": 152,
   "id": "3da81169",
   "metadata": {},
   "outputs": [],
   "source": [
    "#Now we create the new pipeline, this time for RandomForest\n",
    "from sklearn.ensemble import RandomForestClassifier\n",
    "\n",
    "# Define categorical columns again\n",
    "categorical_features = [\"Gender\", \"Subscription Type\", \"Contract Length\"]\n",
    "\n",
    "# ColumnTransformer for OneHotEncoding\n",
    "preprocessor_rf = ColumnTransformer(\n",
    "    transformers=[\n",
    "        (\"cat\", OneHotEncoder(drop=\"first\"), categorical_features)\n",
    "    ],\n",
    "    remainder=\"passthrough\"\n",
    ")\n",
    "\n",
    "pipeline_rf = Pipeline(steps=[\n",
    "    (\"preprocessor\", preprocessor_rf),\n",
    "    (\"classifier\", RandomForestClassifier(n_estimators=100, random_state=0))\n",
    "])"
   ]
  },
  {
   "cell_type": "code",
   "execution_count": 153,
   "id": "4a35e7d5",
   "metadata": {},
   "outputs": [
    {
     "name": "stdout",
     "output_type": "stream",
     "text": [
      "Classification Report:\n",
      "               precision    recall  f1-score   support\n",
      "\n",
      "           0       0.89      0.66      0.76      6793\n",
      "           1       0.71      0.90      0.79      6082\n",
      "\n",
      "    accuracy                           0.78     12875\n",
      "   macro avg       0.80      0.78      0.78     12875\n",
      "weighted avg       0.80      0.78      0.77     12875\n",
      "\n"
     ]
    }
   ],
   "source": [
    "#Fitting the data to the model\n",
    "X_train, X_test, y_train, y_test = train_test_split(X, y, test_size=0.2, random_state=42)\n",
    "\n",
    "# Train the pipeline on the full training set\n",
    "pipeline_rf.fit(X_train, y_train)\n",
    "\n",
    "# Make predictions on the test set\n",
    "y_pred_rf = pipeline_rf.predict(X_test)\n",
    "\n",
    "# Display Classification Report\n",
    "print(\"Classification Report:\\n\", classification_report(y_test, y_pred_rf))"
   ]
  },
  {
   "cell_type": "code",
   "execution_count": 154,
   "id": "df043405",
   "metadata": {},
   "outputs": [
    {
     "data": {
      "image/png": "[encoded data removed]",
      "text/plain": [
       "<Figure size 500x500 with 2 Axes>"
      ]
     },
     "metadata": {},
     "output_type": "display_data"
    }
   ],
   "source": [
    "# Create the confusion matrix\n",
    "cm_rf = confusion_matrix(y_test, y_pred_rf)\n",
    "fig, axes = plt.subplots(figsize=(5,5))\n",
    " \n",
    "sns.heatmap(cm_rf, xticklabels=['not churning', 'churning'], \n",
    "            yticklabels=['not churning', 'churning'], \n",
    "            cmap='Blues', annot=True, fmt='d', ax=axes)\n",
    "\n",
    "axes.set_title('Confusion Matrix for Random Forest')\n",
    "axes.set_xlabel('Predicted Values')\n",
    "axes.set_ylabel('Actual Values')\n",
    "\n",
    "plt.tight_layout()\n",
    "plt.show()"
   ]
  },
  {
   "cell_type": "markdown",
   "id": "d04ef031",
   "metadata": {},
   "source": [
    "# SVC #"
   ]
  },
  {
   "cell_type": "code",
   "execution_count": 155,
   "id": "c1e0c185",
   "metadata": {},
   "outputs": [],
   "source": [
    "# Reinstating the original dataset with \"Payment Delay\" column\n",
    "X = data.drop(columns=[\"CustomerID\", \"Churn\"])\n",
    "y = data[\"Churn\"]"
   ]
  },
  {
   "cell_type": "code",
   "execution_count": 156,
   "id": "5be3d064",
   "metadata": {},
   "outputs": [],
   "source": [
    "#Rebuilding our pipeline\n",
    "from sklearn.preprocessing import StandardScaler\n",
    "from sklearn.svm import SVC\n",
    "\n",
    "categorical_features = [\"Gender\", \"Subscription Type\", \"Contract Length\"]\n",
    "\n",
    "#This time we scale the features as SVC is very sensitive\n",
    "preprocessor_svc = ColumnTransformer(\n",
    "    transformers=[\n",
    "        (\"cat\", OneHotEncoder(drop=\"first\"), categorical_features),\n",
    "    ],\n",
    "    remainder=StandardScaler()\n",
    ")\n",
    "\n",
    "pipeline_svc = Pipeline(steps=[\n",
    "    (\"preprocessor\", preprocessor_svc),\n",
    "    (\"classifier\", SVC(kernel=\"rbf\", random_state=0))\n",
    "])"
   ]
  },
  {
   "cell_type": "code",
   "execution_count": 157,
   "id": "7aeb4bb0",
   "metadata": {},
   "outputs": [
    {
     "name": "stdout",
     "output_type": "stream",
     "text": [
      "\n",
      "Classification Report:\n",
      "               precision    recall  f1-score   support\n",
      "\n",
      "           0       0.96      0.93      0.95      6777\n",
      "           1       0.93      0.96      0.94      6098\n",
      "\n",
      "    accuracy                           0.95     12875\n",
      "   macro avg       0.95      0.95      0.95     12875\n",
      "weighted avg       0.95      0.95      0.95     12875\n",
      "\n"
     ]
    }
   ],
   "source": [
    "#Fit the model\n",
    "X_train, X_test, y_train, y_test = train_test_split(X, y, test_size=0.2, random_state=0)\n",
    "pipeline_svc.fit(X_train, y_train)\n",
    "\n",
    "# Predictions and evaluation\n",
    "y_pred_svc = pipeline_svc.predict(X_test)\n",
    "print(\"\\nClassification Report:\\n\", classification_report(y_test, y_pred_svc))"
   ]
  },
  {
   "cell_type": "code",
   "execution_count": 158,
   "id": "636f89f1",
   "metadata": {},
   "outputs": [
    {
     "data": {
      "image/png": "[encoded data removed]",
      "text/plain": [
       "<Figure size 500x500 with 2 Axes>"
      ]
     },
     "metadata": {},
     "output_type": "display_data"
    }
   ],
   "source": [
    "#Draw our confusion matrix\n",
    "cm_svc = confusion_matrix(y_test, y_pred_svc)\n",
    "fig, axes = plt.subplots(figsize=(5,5))\n",
    " \n",
    "sns.heatmap(cm_svc, xticklabels=['not churning', 'churning'], \n",
    "            yticklabels=['not churning', 'churning'], \n",
    "            cmap='Blues', annot=True, fmt='d', ax=axes)\n",
    "\n",
    "axes.set_title('Confusion Matrix for SVC')\n",
    "axes.set_xlabel('Predicted Values')\n",
    "axes.set_ylabel('Actual Values')\n",
    "\n",
    "plt.tight_layout()\n",
    "plt.show()"
   ]
  },
  {
   "cell_type": "markdown",
   "id": "f73eca42",
   "metadata": {},
   "source": [
    "# Comparison of Results #"
   ]
  },
  {
   "cell_type": "code",
   "execution_count": null,
   "id": "ef4d640c",
   "metadata": {},
   "outputs": [
    {
     "name": "stdout",
     "output_type": "stream",
     "text": [
      "Results from Linear Regression: \n",
      "              precision    recall  f1-score   support\n",
      "\n",
      "           0       0.52      0.51      0.52      6777\n",
      "           1       0.47      0.47      0.47      6098\n",
      "\n",
      "    accuracy                           0.49     12875\n",
      "   macro avg       0.49      0.49      0.49     12875\n",
      "weighted avg       0.49      0.49      0.49     12875\n",
      "\n",
      "\n",
      "Results from RandomForest: \n",
      "              precision    recall  f1-score   support\n",
      "\n",
      "           0       0.52      0.39      0.45      6777\n",
      "           1       0.47      0.60      0.53      6098\n",
      "\n",
      "    accuracy                           0.49     12875\n",
      "   macro avg       0.50      0.50      0.49     12875\n",
      "weighted avg       0.50      0.49      0.49     12875\n",
      "\n",
      "\n",
      "Results from SVC: \n",
      "              precision    recall  f1-score   support\n",
      "\n",
      "           0       0.96      0.93      0.95      6777\n",
      "           1       0.93      0.96      0.94      6098\n",
      "\n",
      "    accuracy                           0.95     12875\n",
      "   macro avg       0.95      0.95      0.95     12875\n",
      "weighted avg       0.95      0.95      0.95     12875\n",
      "\n"
     ]
    }
   ],
   "source": []
  }
 ],
 "metadata": {
  "kernelspec": {
   "display_name": "Python 3",
   "language": "python",
   "name": "python3"
  },
  "language_info": {
   "codemirror_mode": {
    "name": "ipython",
    "version": 3
   },
   "file_extension": ".py",
   "mimetype": "text/x-python",
   "name": "python",
   "nbconvert_exporter": "python",
   "pygments_lexer": "ipython3",
   "version": "3.12.10"
  }
 },
 "nbformat": 4,
 "nbformat_minor": 5
}
